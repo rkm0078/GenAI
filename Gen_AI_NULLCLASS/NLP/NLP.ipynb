{
 "cells": [
  {
   "cell_type": "code",
   "execution_count": 2,
   "metadata": {},
   "outputs": [
    {
     "name": "stdout",
     "output_type": "stream",
     "text": [
      "Requirement already satisfied: nltk in c:\\users\\risha\\appdata\\local\\programs\\python\\python312\\lib\\site-packages (3.8.1)\n",
      "Requirement already satisfied: click in c:\\users\\risha\\appdata\\local\\programs\\python\\python312\\lib\\site-packages (from nltk) (8.1.7)\n",
      "Requirement already satisfied: joblib in c:\\users\\risha\\appdata\\local\\programs\\python\\python312\\lib\\site-packages (from nltk) (1.4.0)\n",
      "Requirement already satisfied: regex>=2021.8.3 in c:\\users\\risha\\appdata\\local\\programs\\python\\python312\\lib\\site-packages (from nltk) (2024.5.15)\n",
      "Requirement already satisfied: tqdm in c:\\users\\risha\\appdata\\local\\programs\\python\\python312\\lib\\site-packages (from nltk) (4.66.4)\n",
      "Requirement already satisfied: colorama in c:\\users\\risha\\appdata\\local\\programs\\python\\python312\\lib\\site-packages (from click->nltk) (0.4.6)\n",
      "Note: you may need to restart the kernel to use updated packages.\n"
     ]
    }
   ],
   "source": [
    "pip install nltk"
   ]
  },
  {
   "cell_type": "code",
   "execution_count": 3,
   "metadata": {},
   "outputs": [],
   "source": [
    "pg = ''' \n",
    "The anecdotes and narratives of Krishna's life are generally titled as Krishna Līlā. He is a central figure in the Mahabharata, the Bhagavata Purana, the Brahma Vaivarta Purana, and the Bhagavad Gita, and is mentioned in many Hindu philosophical, theological, and mythological texts.[19] They portray him in various perspectives: as a god-child, a prankster, a model lover, a divine hero, and the universal supreme being.[20] His iconography reflects these legends and shows him in different stages of his life, such as an infant eating butter, a young boy playing a flute, a young boy with Radha or surrounded by female devotees, or a friendly charioteer giving counsel to Arjuna.[21]\n",
    "'''\n"
   ]
  },
  {
   "cell_type": "code",
   "execution_count": 4,
   "metadata": {},
   "outputs": [],
   "source": [
    "import nltk\n",
    "from nltk.stem import PorterStemmer\n",
    "from nltk.corpus import stopwords\n"
   ]
  },
  {
   "cell_type": "code",
   "execution_count": 5,
   "metadata": {},
   "outputs": [
    {
     "name": "stderr",
     "output_type": "stream",
     "text": [
      "[nltk_data] Downloading package punkt to\n",
      "[nltk_data]     C:\\Users\\risha\\AppData\\Roaming\\nltk_data...\n",
      "[nltk_data]   Package punkt is already up-to-date!\n"
     ]
    },
    {
     "data": {
      "text/plain": [
       "True"
      ]
     },
     "execution_count": 5,
     "metadata": {},
     "output_type": "execute_result"
    }
   ],
   "source": [
    "nltk.download('punkt')"
   ]
  },
  {
   "cell_type": "code",
   "execution_count": 6,
   "metadata": {},
   "outputs": [],
   "source": [
    "st = nltk.sent_tokenize(pg)"
   ]
  },
  {
   "cell_type": "code",
   "execution_count": 7,
   "metadata": {},
   "outputs": [
    {
     "data": {
      "text/plain": [
       "list"
      ]
     },
     "execution_count": 7,
     "metadata": {},
     "output_type": "execute_result"
    }
   ],
   "source": [
    "type(st)"
   ]
  },
  {
   "cell_type": "code",
   "execution_count": 8,
   "metadata": {},
   "outputs": [
    {
     "data": {
      "text/plain": [
       "str"
      ]
     },
     "execution_count": 8,
     "metadata": {},
     "output_type": "execute_result"
    }
   ],
   "source": [
    "type(pg)"
   ]
  },
  {
   "cell_type": "code",
   "execution_count": 9,
   "metadata": {},
   "outputs": [
    {
     "data": {
      "text/plain": [
       "'play'"
      ]
     },
     "execution_count": 9,
     "metadata": {},
     "output_type": "execute_result"
    }
   ],
   "source": [
    "stemmmer = PorterStemmer()\n",
    "stemmmer.stem('plays')"
   ]
  },
  {
   "cell_type": "code",
   "execution_count": 10,
   "metadata": {},
   "outputs": [
    {
     "name": "stderr",
     "output_type": "stream",
     "text": [
      "[nltk_data] Downloading package wordnet to\n",
      "[nltk_data]     C:\\Users\\risha\\AppData\\Roaming\\nltk_data...\n",
      "[nltk_data]   Package wordnet is already up-to-date!\n"
     ]
    },
    {
     "data": {
      "text/plain": [
       "True"
      ]
     },
     "execution_count": 10,
     "metadata": {},
     "output_type": "execute_result"
    }
   ],
   "source": [
    "nltk.download('wordnet')"
   ]
  },
  {
   "cell_type": "code",
   "execution_count": 11,
   "metadata": {},
   "outputs": [
    {
     "data": {
      "text/plain": [
       "'go'"
      ]
     },
     "execution_count": 11,
     "metadata": {},
     "output_type": "execute_result"
    }
   ],
   "source": [
    "from nltk.stem import WordNetLemmatizer\n",
    "lemmmatizer = WordNetLemmatizer()\n",
    "lemmmatizer.lemmatize('goes')"
   ]
  },
  {
   "cell_type": "code",
   "execution_count": 12,
   "metadata": {},
   "outputs": [
    {
     "data": {
      "text/plain": [
       "['  the anecdotes and narratives of krishna s life are generally titled as krishna l l  ',\n",
       " 'he is a central figure in the mahabharata  the bhagavata purana  the brahma vaivarta purana  and the bhagavad gita  and is mentioned in many hindu philosophical  theological  and mythological texts ',\n",
       " '     they portray him in various perspectives  as a god child  a prankster  a model lover  a divine hero  and the universal supreme being ',\n",
       " '     his iconography reflects these legends and shows him in different stages of his life  such as an infant eating butter  a young boy playing a flute  a young boy with radha or surrounded by female devotees  or a friendly charioteer giving counsel to arjuna ',\n",
       " '    ']"
      ]
     },
     "execution_count": 12,
     "metadata": {},
     "output_type": "execute_result"
    }
   ],
   "source": [
    "import re\n",
    "corpus = []\n",
    "for i in range(len(st)):\n",
    "    text  = re.sub('[^a-zA-Z]', \" \", st[i])\n",
    "    text = text.lower()\n",
    "    corpus.append(text)\n",
    "corpus"
   ]
  },
  {
   "cell_type": "code",
   "execution_count": 13,
   "metadata": {},
   "outputs": [
    {
     "name": "stderr",
     "output_type": "stream",
     "text": [
      "[nltk_data] Downloading package stopwords to\n",
      "[nltk_data]     C:\\Users\\risha\\AppData\\Roaming\\nltk_data...\n",
      "[nltk_data]   Package stopwords is already up-to-date!\n"
     ]
    },
    {
     "data": {
      "text/plain": [
       "True"
      ]
     },
     "execution_count": 13,
     "metadata": {},
     "output_type": "execute_result"
    }
   ],
   "source": [
    "nltk.download('stopwords')"
   ]
  },
  {
   "cell_type": "code",
   "execution_count": 14,
   "metadata": {},
   "outputs": [
    {
     "name": "stdout",
     "output_type": "stream",
     "text": [
      "anecdot\n",
      "narr\n",
      "krishna\n",
      "life\n",
      "gener\n",
      "titl\n",
      "krishna\n",
      "l\n",
      "l\n",
      "central\n",
      "figur\n",
      "mahabharata\n",
      "bhagavata\n",
      "purana\n",
      "brahma\n",
      "vaivarta\n",
      "purana\n",
      "bhagavad\n",
      "gita\n",
      "mention\n",
      "mani\n",
      "hindu\n",
      "philosoph\n",
      "theolog\n",
      "mytholog\n",
      "text\n",
      "portray\n",
      "variou\n",
      "perspect\n",
      "god\n",
      "child\n",
      "prankster\n",
      "model\n",
      "lover\n",
      "divin\n",
      "hero\n",
      "univers\n",
      "suprem\n",
      "iconographi\n",
      "reflect\n",
      "legend\n",
      "show\n",
      "differ\n",
      "stage\n",
      "life\n",
      "infant\n",
      "eat\n",
      "butter\n",
      "young\n",
      "boy\n",
      "play\n",
      "flute\n",
      "young\n",
      "boy\n",
      "radha\n",
      "surround\n",
      "femal\n",
      "devote\n",
      "friendli\n",
      "chariot\n",
      "give\n",
      "counsel\n",
      "arjuna\n"
     ]
    }
   ],
   "source": [
    "for i in corpus:\n",
    "    words = nltk.word_tokenize(i)\n",
    "    for word in words:\n",
    "        if word not in set(stopwords.words('english')):\n",
    "            print(stemmmer.stem(word))"
   ]
  },
  {
   "cell_type": "code",
   "execution_count": 15,
   "metadata": {},
   "outputs": [
    {
     "data": {
      "text/plain": [
       "{'the': 64,\n",
       " 'anecdotes': 2,\n",
       " 'and': 1,\n",
       " 'narratives': 47,\n",
       " 'of': 48,\n",
       " 'krishna': 38,\n",
       " 'life': 40,\n",
       " 'are': 3,\n",
       " 'generally': 25,\n",
       " 'titled': 68,\n",
       " 'as': 5,\n",
       " 'he': 29,\n",
       " 'is': 37,\n",
       " 'central': 13,\n",
       " 'figure': 22,\n",
       " 'in': 35,\n",
       " 'mahabharata': 42,\n",
       " 'bhagavata': 8,\n",
       " 'purana': 55,\n",
       " 'brahma': 10,\n",
       " 'vaivarta': 71,\n",
       " 'bhagavad': 7,\n",
       " 'gita': 26,\n",
       " 'mentioned': 44,\n",
       " 'many': 43,\n",
       " 'hindu': 32,\n",
       " 'philosophical': 51,\n",
       " 'theological': 65,\n",
       " 'mythological': 46,\n",
       " 'texts': 63,\n",
       " 'they': 67,\n",
       " 'portray': 53,\n",
       " 'him': 31,\n",
       " 'various': 72,\n",
       " 'perspectives': 50,\n",
       " 'god': 28,\n",
       " 'child': 15,\n",
       " 'prankster': 54,\n",
       " 'model': 45,\n",
       " 'lover': 41,\n",
       " 'divine': 19,\n",
       " 'hero': 30,\n",
       " 'universal': 70,\n",
       " 'supreme': 61,\n",
       " 'being': 6,\n",
       " 'his': 33,\n",
       " 'iconography': 34,\n",
       " 'reflects': 57,\n",
       " 'these': 66,\n",
       " 'legends': 39,\n",
       " 'shows': 58,\n",
       " 'different': 18,\n",
       " 'stages': 59,\n",
       " 'such': 60,\n",
       " 'an': 0,\n",
       " 'infant': 36,\n",
       " 'eating': 20,\n",
       " 'butter': 11,\n",
       " 'young': 74,\n",
       " 'boy': 9,\n",
       " 'playing': 52,\n",
       " 'flute': 23,\n",
       " 'with': 73,\n",
       " 'radha': 56,\n",
       " 'or': 49,\n",
       " 'surrounded': 62,\n",
       " 'by': 12,\n",
       " 'female': 21,\n",
       " 'devotees': 17,\n",
       " 'friendly': 24,\n",
       " 'charioteer': 14,\n",
       " 'giving': 27,\n",
       " 'counsel': 16,\n",
       " 'to': 69,\n",
       " 'arjuna': 4}"
      ]
     },
     "execution_count": 15,
     "metadata": {},
     "output_type": "execute_result"
    }
   ],
   "source": [
    "from sklearn.feature_extraction.text import CountVectorizer\n",
    "cv = CountVectorizer()\n",
    "x = cv.fit_transform(corpus)\n",
    "cv.vocabulary_"
   ]
  },
  {
   "cell_type": "code",
   "execution_count": 22,
   "metadata": {},
   "outputs": [
    {
     "name": "stdout",
     "output_type": "stream",
     "text": [
      "{'love': 4, 'machine': 5, 'learning': 3, 'is': 1, 'fun': 0, 'natural': 6, 'language': 2, 'processing': 9, 'part': 8, 'of': 7}\n"
     ]
    }
   ],
   "source": [
    "#TF-IDF\n",
    "from sklearn.feature_extraction.text import TfidfVectorizer\n",
    "corpus = [\n",
    "    'I love machine learning',\n",
    "    'Machine learning is fun',\n",
    "    'Natural language processing is a part of machine learning'\n",
    "]\n",
    "\n",
    "v = TfidfVectorizer()\n",
    "result = v.fit_transform(corpus)\n",
    "print(v.vocabulary_)"
   ]
  },
  {
   "cell_type": "code",
   "execution_count": 23,
   "metadata": {},
   "outputs": [
    {
     "name": "stdout",
     "output_type": "stream",
     "text": [
      "  (0, 3)\t0.4532946552278861\n",
      "  (0, 5)\t0.4532946552278861\n",
      "  (0, 4)\t0.7674945674619879\n",
      "  (1, 0)\t0.6628399823470976\n",
      "  (1, 1)\t0.5041068915759233\n",
      "  (1, 3)\t0.39148397136265967\n",
      "  (1, 5)\t0.39148397136265967\n",
      "  (2, 7)\t0.3991688622369956\n",
      "  (2, 8)\t0.3991688622369956\n",
      "  (2, 9)\t0.3991688622369956\n",
      "  (2, 2)\t0.3991688622369956\n",
      "  (2, 6)\t0.3991688622369956\n",
      "  (2, 1)\t0.3035782084895695\n",
      "  (2, 3)\t0.2357555603081035\n",
      "  (2, 5)\t0.2357555603081035\n"
     ]
    }
   ],
   "source": [
    "print(result)"
   ]
  },
  {
   "cell_type": "code",
   "execution_count": 24,
   "metadata": {},
   "outputs": [
    {
     "name": "stdout",
     "output_type": "stream",
     "text": [
      "fun 1.6931471805599454\n",
      "is 1.2876820724517808\n",
      "language 1.6931471805599454\n",
      "learning 1.0\n",
      "love 1.6931471805599454\n",
      "machine 1.0\n",
      "natural 1.6931471805599454\n",
      "of 1.6931471805599454\n",
      "part 1.6931471805599454\n",
      "processing 1.6931471805599454\n"
     ]
    }
   ],
   "source": [
    "all_features_names = v.get_feature_names_out()\n",
    "for word in all_features_names:\n",
    "    indx = v.vocabulary_.get(word)\n",
    "    idf_score = v.idf_[indx]\n",
    "    print(f\"{word} {idf_score}\")"
   ]
  },
  {
   "cell_type": "code",
   "execution_count": null,
   "metadata": {},
   "outputs": [],
   "source": []
  }
 ],
 "metadata": {
  "kernelspec": {
   "display_name": "Python 3",
   "language": "python",
   "name": "python3"
  },
  "language_info": {
   "codemirror_mode": {
    "name": "ipython",
    "version": 3
   },
   "file_extension": ".py",
   "mimetype": "text/x-python",
   "name": "python",
   "nbconvert_exporter": "python",
   "pygments_lexer": "ipython3",
   "version": "3.12.3"
  }
 },
 "nbformat": 4,
 "nbformat_minor": 2
}
